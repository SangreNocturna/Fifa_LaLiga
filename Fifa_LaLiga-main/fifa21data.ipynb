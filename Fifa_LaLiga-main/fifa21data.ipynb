{
 "cells": [
  {
   "cell_type": "code",
   "execution_count": 652,
   "id": "f3af3aeb",
   "metadata": {},
   "outputs": [],
   "source": [
    "import pandas as pd\n",
    "import matplotlib.pyplot as plt\n",
    "import seaborn as sns\n",
    "from sklearn import linear_model\n",
    "import numpy as np\n",
    "import statistics as stats\n",
    "import sklearn\n",
    "import re\n",
    "from sklearn.preprocessing import MinMaxScaler \n",
    "from sklearn.preprocessing import OneHotEncoder\n",
    "from sklearn.preprocessing import LabelEncoder\n",
    "from sklearn.metrics import r2_score\n",
    "from sklearn.metrics import mean_squared_error\n",
    "from sklearn.metrics import mean_absolute_error\n",
    "\n",
    "pd.set_option('display.max_columns', None)"
   ]
  },
  {
   "cell_type": "code",
   "execution_count": 653,
   "id": "a629b08d",
   "metadata": {},
   "outputs": [],
   "source": [
    "pd.set_option('display.max_columns', None)\n",
    "pd.set_option('display.max_rows', None)"
   ]
  },
  {
   "cell_type": "code",
   "execution_count": 654,
   "id": "64c16861",
   "metadata": {},
   "outputs": [],
   "source": [
    "def preprocess(data):\n",
    "\n",
    "    # Fix the weights (as kg)\n",
    "    Weight = [] \n",
    "    for i in data['Weight']:\n",
    "        Weight.append(str(i).replace('lbs' , ''))\n",
    "\n",
    "    data['Weight'] = Weight\n",
    "    data['Weight'] = data['Weight'].astype(np.number)\n",
    "    data['Weight'] = data['Weight']/2.2046\n",
    "\n",
    "    \n",
    "    # Fix the heights (as cm)\n",
    "    \n",
    "\n",
    "    cmheight = []\n",
    "    for item in data['Height']:\n",
    "        item = str(item).replace('\\\"', '')\n",
    "        feetinches = item.split('\\'')\n",
    "        cmheight.append(round(int(feetinches[0]) * 30.48) + int(feetinches[1]) * 2.54)\n",
    "    data['Height'] = cmheight\n",
    "        \n",
    "    # Remove the stars from columns 'IR', 'W/F', and 'SM'\n",
    "    newvalues = []\n",
    "    for item in data['IR']:\n",
    "        item = str(item).replace('★', '')\n",
    "        item = item.strip()\n",
    "        newvalues.append(int(item))\n",
    "    data['IR']=newvalues\n",
    "\n",
    "    newvalues = []\n",
    "    for item in data['W/F']:\n",
    "        item = str(item).replace('★', '')\n",
    "        item = item.strip()\n",
    "        newvalues.append(int(item))\n",
    "    data['W/F']=newvalues\n",
    "    \n",
    "    newvalues = []\n",
    "    for item in data['SM']:\n",
    "        item = str(item).replace('★', '')\n",
    "        item = item.strip()\n",
    "        newvalues.append(int(item))\n",
    "    data['SM']=newvalues\n",
    "    \n",
    "\n",
    "    # Transform the 'Contract' column to only give the end date of the contract \n",
    "#     contractend = []\n",
    "#     for item in data['Contract']:\n",
    "#         if 'Free' in item:\n",
    "#             contractend.append('DELETE')\n",
    "#         else:\n",
    "#             item = item.replace(' On Loan', '')\n",
    "#             item = item[-4:]\n",
    "#             contractend.append(int(item))\n",
    "        \n",
    "#     data['Contract']=contractend\n",
    "\n",
    "    # Transform the 'loan date end' column to an on loan (yes/no) column\n",
    "    data['Loan Date End'] = data['Loan Date End'].fillna(0)\n",
    "\n",
    "    loanyesno = []\n",
    "    for item in data['Loan Date End']:\n",
    "        if item == 0:\n",
    "            loanyesno.append(item)\n",
    "        else: \n",
    "            loanyesno.append(1)\n",
    "\n",
    "    data['Loan Date End'] = loanyesno\n",
    "    data = data.rename(columns={'Loan Date End':'On Loan'})\n",
    "\n",
    "    data['On Loan']\n",
    "    \n",
    "    # Remove the plusses and minuses on the last few rows   \n",
    "    toclean = ['LS', 'ST', 'RS', 'LW', 'LF', 'CF', 'RF', 'RW', 'LAM', 'CAM', 'RAM', 'LM', 'LCM', 'CM', 'RCM', 'RM', 'LWB', 'LDM', 'CDM', 'RDM', 'RWB', 'LB', 'LCB', 'CB', 'RCB', 'RB', 'GK']\n",
    "\n",
    "    superlist = []\n",
    "\n",
    "    for column in toclean: \n",
    "        values = []\n",
    "        for item in data[column]:\n",
    "            if item[1] == '-' or item[1] == '+':\n",
    "                values.append(int(item[0]))\n",
    "            else: \n",
    "                values.append(int(item[:2]))\n",
    "        superlist.append(values)\n",
    "\n",
    "\n",
    "    for i in range(len(toclean)):\n",
    "        data[toclean[i]] = superlist[i]\n",
    "\n",
    "    # Clean up currency cells by removing € sign and converting 'M' and 'K' to numbers\n",
    "    \n",
    "    newvalues1 = []\n",
    "    for item in data['Value']:\n",
    "        item = item.replace('€', '')\n",
    "        if 'K' in item: \n",
    "            item = float(item.replace('K', ''))\n",
    "            item = item * 1000\n",
    "            newvalues1.append(int(item))\n",
    "        elif 'M' in item: \n",
    "            item = float(item.replace('M', ''))\n",
    "            item = item * 1000000      \n",
    "            newvalues1.append(int(item))\n",
    "        else: \n",
    "            item = int(item)\n",
    "            newvalues1.append(int(item))\n",
    "    data['Value']=newvalues1\n",
    "    \n",
    "    \n",
    "    newvalues2 = []\n",
    "    for item in data['Wage']:\n",
    "        item = item.replace('€', '')\n",
    "        if 'K' in item: \n",
    "            item = float(item.replace('K', ''))\n",
    "            item *= 1000\n",
    "            newvalues2.append(int(item))\n",
    "        elif 'M' in item: \n",
    "            item = float(item.replace('M', ''))\n",
    "            item *= 1000000      \n",
    "            newvalues2.append(int(item))\n",
    "        else: \n",
    "            item = int(item)\n",
    "            newvalues2.append(int(item))\n",
    "    data['Wage']=newvalues2\n",
    "    \n",
    "    \n",
    "    newvalues3 = []\n",
    "    for item in data['Release Clause']:\n",
    "        item = item.replace('€', '')\n",
    "        if 'K' in item: \n",
    "            item = float(item.replace('K', ''))\n",
    "            item *= 1000\n",
    "            newvalues3.append(int(item))\n",
    "        elif 'M' in item: \n",
    "            item = float(item.replace('M', ''))\n",
    "            item *= 1000000      \n",
    "            newvalues3.append(int(item))\n",
    "        else: \n",
    "            item = int(item)\n",
    "            newvalues3.append(int(item))\n",
    "    data['Release Clause']=newvalues3\n",
    "    \n",
    "    \n",
    "    # Clean up Hits column (which contains some values with K in them)¶\n",
    "    newhits = []\n",
    "    for item in data['Hits']:\n",
    "        if 'K' in item:\n",
    "            item = item.replace('K','')\n",
    "            item = float(item) * 1000\n",
    "            newhits.append(int(item))\n",
    "        else: \n",
    "            newhits.append(int(item))\n",
    "    data['Hits'] = newhits\n",
    "\n",
    "    # Dropping stuff\n",
    "    \n",
    "    # Drop columns with irrelevant attributes\n",
    "    #Some atributes are used to calculate the rating per category, that we already have, so individual attributes are not necessary here\n",
    "\n",
    "    # Different versions for commenting out and experimenting\n",
    "    \n",
    "#     # First, a version with only the summed up columns (Attacking etc)\n",
    "#     data = data.drop(['Nationality','Club','Team & Contract', 'Position', 'ID','Growth','Joined', 'Contract','Name','Crossing','Finishing','Heading Accuracy','Short Passing','Volleys',\n",
    "#            'Dribbling','Curve','FK Accuracy','Long Passing','Ball Control',\n",
    "#            'Acceleration','Sprint Speed','Agility','Reactions','Balance',\n",
    "#           'Shot Power','Jumping','Stamina','Strength','Long Shots',\n",
    "#           'Aggression','Interceptions','Positioning','Vision','Penalties','Composure',\n",
    "#           'Marking','Standing Tackle','Sliding Tackle',\n",
    "#           'GK Diving','GK Handling','GK Kicking','GK Positioning','GK Reflexes'], axis=1)\n",
    "    \n",
    "    # Then, a version with only the component columns\n",
    "    data = data.drop(['Nationality','Club','Team & Contract', 'Position', 'ID','Growth','Joined', 'Contract','Name','Crossing','Finishing','Heading Accuracy','Short Passing','Volleys',\n",
    "'Attacking', 'Skill', 'Movement', 'Power', 'Mentality', 'Defending', 'Defending'], axis=1)\n",
    "    \n",
    "    \n",
    "    \n",
    "    #data = data.drop(['Age', 'Height', 'Weight', 'On Loan', 'Value', 'Wage', 'Release Clause'], axis=1)\n",
    "    #data = data.drop(['Value', 'Wage', 'Release Clause'], axis=1)\n",
    "    #data = data.drop(['Age', 'Height', 'Weight'], axis=1)\n",
    "\n",
    "    for column in data.columns: \n",
    "        data = data[data[column].isna()==False]\n",
    "\n",
    "    #Drop the rows with less than 5% of NaN\n",
    "#     data = data[data['A/W'].isna()==False]\n",
    "#     data = data[data['D/W'].isna()==False]\n",
    "\n",
    "    return data\n",
    "\n"
   ]
  },
  {
   "cell_type": "code",
   "execution_count": 655,
   "id": "99692885",
   "metadata": {},
   "outputs": [],
   "source": [
    "df = preprocess(pd.read_csv('fifa21_train.csv'))"
   ]
  },
  {
   "cell_type": "markdown",
   "id": "c394af7a",
   "metadata": {},
   "source": [
    "### And a function to do the X-Y split"
   ]
  },
  {
   "cell_type": "code",
   "execution_count": 656,
   "id": "67c0b245",
   "metadata": {},
   "outputs": [],
   "source": [
    "y = df['OVA']\n",
    "X = df.drop(['OVA'], axis = 1)\n",
    "\n",
    "#Split numerical and categorical data\n",
    "X_num = X.select_dtypes(np.number)\n",
    "X_cat = X.select_dtypes(object)\n",
    "\n",
    "\n",
    "transformer = MinMaxScaler().fit(X_num)\n",
    "# encoder = OneHotEncoder().fit(X_cat)\n",
    "\n",
    "\n",
    "def xysplit(dataframe): \n",
    "    \n",
    "    #Initial split (y will remain unchanged, X will undergo more operations)\n",
    "    y = dataframe['OVA']\n",
    "    X = dataframe.drop(['OVA'], axis = 1)\n",
    "    \n",
    "    #Split numerical and categorical data\n",
    "    X_num = X.select_dtypes(np.number)\n",
    "    X_cat = X.select_dtypes(object)\n",
    "\n",
    "    #Normalize the numerical data\n",
    "    x_normalized = transformer.transform(X_num)\n",
    "    X_normal = pd.DataFrame(x_normalized, columns=X_num.columns)\n",
    "\n",
    "    #Encode categorical data\n",
    "    encoder = OneHotEncoder().fit(X_cat)\n",
    "\n",
    "    encoded = encoder.transform(X_cat).toarray()\n",
    "\n",
    "    # And get relevant headers for the encoded categorical data\n",
    "    headers = []\n",
    "\n",
    "    for category in encoder.categories_:\n",
    "        for unit in category: \n",
    "            headers.append(unit)\n",
    "\n",
    "    categ_encoded=pd.DataFrame(encoded, columns=headers)\n",
    "    \n",
    "    #Finally, concatenate the (normalized) numerical and (encoded) categorical data\n",
    "    X = pd.concat([X_normal, categ_encoded], axis = 1)\n",
    "    \n",
    "    \n",
    "    return X, y"
   ]
  },
  {
   "cell_type": "code",
   "execution_count": 657,
   "id": "e0dfbd2c",
   "metadata": {},
   "outputs": [],
   "source": [
    "X, y = xysplit(df)"
   ]
  },
  {
   "cell_type": "markdown",
   "id": "5779b0c2",
   "metadata": {},
   "source": [
    "### Test train split"
   ]
  },
  {
   "cell_type": "code",
   "execution_count": 658,
   "id": "1d4e9339",
   "metadata": {},
   "outputs": [],
   "source": [
    "from sklearn.model_selection import train_test_split\n",
    "X_train, X_test, y_train, y_test = train_test_split(X, y, test_size=0.2, random_state=25)"
   ]
  },
  {
   "cell_type": "markdown",
   "id": "6248775d",
   "metadata": {},
   "source": [
    "### Build the model "
   ]
  },
  {
   "cell_type": "code",
   "execution_count": 659,
   "id": "195d3f1a",
   "metadata": {},
   "outputs": [
    {
     "data": {
      "text/plain": [
       "LinearRegression()"
      ]
     },
     "execution_count": 659,
     "metadata": {},
     "output_type": "execute_result"
    }
   ],
   "source": [
    "lm = linear_model.LinearRegression()\n",
    "lm.fit(X_train,y_train)"
   ]
  },
  {
   "cell_type": "markdown",
   "id": "cc3d1db2",
   "metadata": {},
   "source": [
    "### A function to generate scores to evaluate"
   ]
  },
  {
   "cell_type": "code",
   "execution_count": 660,
   "id": "ecec429b",
   "metadata": {},
   "outputs": [],
   "source": [
    "def scores(y_data, predictions):\n",
    "    print(\"r2 score:\",r2_score(y_data, predictions))\n",
    "    print(\"MSE score:\",mean_squared_error(y_data, predictions))\n",
    "    print(\"RMSE score:\",np.sqrt(mean_squared_error(y_data, predictions)))\n",
    "    print(\"MAE score:\", mean_absolute_error(y_data, predictions))"
   ]
  },
  {
   "cell_type": "markdown",
   "id": "a08da3a0",
   "metadata": {},
   "source": [
    "### Get the R2 score for the training and test data"
   ]
  },
  {
   "cell_type": "code",
   "execution_count": 661,
   "id": "57e2f20e",
   "metadata": {},
   "outputs": [
    {
     "name": "stdout",
     "output_type": "stream",
     "text": [
      "Training data\n",
      "r2 score: 0.9204087603462355\n",
      "MSE score: 3.702127630892997\n",
      "RMSE score: 1.9240913779997553\n",
      "MAE score: 1.4901430460456113\n",
      "Test data\n",
      "r2 score: 0.9229505531657108\n",
      "MSE score: 3.7098033095345193\n",
      "RMSE score: 1.9260849694482638\n",
      "MAE score: 1.5127089886487965\n"
     ]
    }
   ],
   "source": [
    "predictions = lm.predict(X_train)\n",
    "predictions_test = lm.predict(X_test)\n",
    "\n",
    "print(\"Training data\")\n",
    "scores(y_train, predictions)\n",
    "\n",
    "print(\"Test data\")\n",
    "scores(y_test, predictions_test)"
   ]
  },
  {
   "cell_type": "markdown",
   "id": "fdea27f8",
   "metadata": {},
   "source": [
    "### Validate new data"
   ]
  },
  {
   "cell_type": "code",
   "execution_count": 662,
   "id": "f6585ab6",
   "metadata": {},
   "outputs": [],
   "source": [
    "df2 = preprocess(pd.read_csv('fifa21_validate.csv'))"
   ]
  },
  {
   "cell_type": "markdown",
   "id": "0847e0a5",
   "metadata": {},
   "source": [
    "### y2 here gives a meaningless value, but we'll ignore that and keep working with the original y\n"
   ]
  },
  {
   "cell_type": "code",
   "execution_count": 663,
   "id": "c17bfcfc",
   "metadata": {},
   "outputs": [],
   "source": [
    "X2, y2 = xysplit(df2)"
   ]
  },
  {
   "cell_type": "code",
   "execution_count": 664,
   "id": "b8d6a8b7",
   "metadata": {},
   "outputs": [],
   "source": [
    "predictions2 = lm.predict(X2)"
   ]
  },
  {
   "cell_type": "code",
   "execution_count": 665,
   "id": "b621a9f7",
   "metadata": {},
   "outputs": [
    {
     "name": "stdout",
     "output_type": "stream",
     "text": [
      "[65.90234375 65.79785156 53.73144531 ... 73.96435547 64.20751953\n",
      " 61.1015625 ]\n"
     ]
    }
   ],
   "source": [
    "print(predictions2)"
   ]
  },
  {
   "cell_type": "code",
   "execution_count": 666,
   "id": "0acd8a1e",
   "metadata": {},
   "outputs": [
    {
     "name": "stdout",
     "output_type": "stream",
     "text": [
      "r2 score: 0.9185752612772627\n",
      "MSE score: 3.683665013545718\n",
      "RMSE score: 1.9192876317909513\n",
      "MAE score: 1.4915917417585942\n"
     ]
    }
   ],
   "source": [
    "scores(y2, predictions2)"
   ]
  },
  {
   "cell_type": "code",
   "execution_count": 667,
   "id": "636e1890",
   "metadata": {},
   "outputs": [],
   "source": [
    "# y = df['ova']\n",
    "# y2 = df2['ova']\n",
    "\n",
    "# X = X.drop(['total claim amount'], axis=1)\n"
   ]
  },
  {
   "cell_type": "markdown",
   "id": "79f7680c",
   "metadata": {},
   "source": [
    "### Training the model"
   ]
  },
  {
   "cell_type": "markdown",
   "id": "6b26bab2",
   "metadata": {},
   "source": [
    "### Predictions"
   ]
  },
  {
   "cell_type": "code",
   "execution_count": 668,
   "id": "da3e8fc4",
   "metadata": {},
   "outputs": [
    {
     "data": {
      "text/plain": [
       "0.9204087603462355"
      ]
     },
     "execution_count": 668,
     "metadata": {},
     "output_type": "execute_result"
    }
   ],
   "source": [
    "predictions2 = lm.predict(X_train)\n",
    "r2_score(y_train, predictions2)"
   ]
  },
  {
   "cell_type": "markdown",
   "id": "0d1efb37",
   "metadata": {},
   "source": [
    "### Looking for the best player of the league"
   ]
  },
  {
   "cell_type": "code",
   "execution_count": 669,
   "id": "414ca1d5",
   "metadata": {},
   "outputs": [],
   "source": [
    "# df = df.drop(['id', 'name'], axis=1)\n",
    "# identity = df.loc[:,['id','name']]\n",
    "# X_ID = pd.concat([identity, X], axis=1)"
   ]
  },
  {
   "cell_type": "code",
   "execution_count": 670,
   "id": "d3ea63c2",
   "metadata": {},
   "outputs": [
    {
     "name": "stdout",
     "output_type": "stream",
     "text": [
      "id                    203067\n",
      "name                D. Chará\n",
      "attacking           0.724051\n",
      "crossing            0.659091\n",
      "finishing           0.608696\n",
      "heading accuracy    0.738636\n",
      "short passing       0.638554\n",
      "volleys              0.77907\n",
      "skill               0.655738\n",
      "dribbling            0.67033\n",
      "curve                    0.6\n",
      "fk accuracy         0.674157\n",
      "long passing        0.690476\n",
      "ball control        0.681319\n",
      "movement            0.495726\n",
      "acceleration        0.416667\n",
      "sprint speed        0.458824\n",
      "agility             0.487805\n",
      "reactions            0.56338\n",
      "balance                0.675\n",
      "power               0.797428\n",
      "shot power           0.86747\n",
      "jumping             0.785714\n",
      "stamina             0.694118\n",
      "strength            0.753247\n",
      "long shots          0.711111\n",
      "mentality           0.857939\n",
      "aggression           0.91954\n",
      "interceptions       0.776471\n",
      "positioning         0.731183\n",
      "vision                   0.6\n",
      "penalties           0.761905\n",
      "composure           0.738095\n",
      "defending           0.728745\n",
      "marking             0.719101\n",
      "standing tackle      0.72619\n",
      "sliding tackle      0.714286\n",
      "goalkeeping         0.088993\n",
      "gk diving           0.102273\n",
      "gk handling         0.046512\n",
      "gk kicking           0.05814\n",
      "gk positioning      0.146067\n",
      "gk reflexes         0.102273\n",
      "total stats         0.763509\n",
      "base stats          0.629771\n",
      "w/f                     0.25\n",
      "sm                       0.5\n",
      "ir                       0.0\n",
      "pac                 0.328571\n",
      "sho                 0.671053\n",
      "pas                 0.573529\n",
      "dri                 0.552239\n",
      "def                 0.727273\n",
      "phy                   0.8125\n",
      "hits                0.000544\n",
      "ls                  0.697368\n",
      "bp_CB                    1.0\n",
      "bp_CDM                   0.0\n",
      "bp_CF                    0.0\n",
      "bp_CM                    0.0\n",
      "bp_GK                    0.0\n",
      "bp_LB                    0.0\n",
      "bp_LM                    0.0\n",
      "bp_LW                    0.0\n",
      "bp_LWB                   0.0\n",
      "bp_RB                    0.0\n",
      "bp_RM                    0.0\n",
      "bp_RW                    0.0\n",
      "bp_RWB                   0.0\n",
      "bp_ST                    0.0\n",
      "a/w_Low                  0.0\n",
      "a/w_Medium               1.0\n",
      "d/w_Low                  0.0\n",
      "d/w_Medium               0.0\n",
      "Name: 441, dtype: object\n"
     ]
    }
   ],
   "source": [
    "id_max = np.argmax(lm.predict(X_test)) # find id of the maximum predicted label\n",
    "print(X_ID.loc[id_max])"
   ]
  },
  {
   "cell_type": "code",
   "execution_count": 671,
   "id": "b51125f1",
   "metadata": {},
   "outputs": [
    {
     "name": "stdout",
     "output_type": "stream",
     "text": [
      "Age                      31\n",
      "BP                       CB\n",
      "Height               190.62\n",
      "Weight             83.91545\n",
      "foot                  Right\n",
      "On Loan                   0\n",
      "Value               7500000\n",
      "Wage                  38000\n",
      "Release Clause     12800000\n",
      "Dribbling                55\n",
      "Curve                  70.0\n",
      "FK Accuracy              74\n",
      "Long Passing             75\n",
      "Ball Control             60\n",
      "Acceleration             50\n",
      "Sprint Speed             55\n",
      "Agility                34.0\n",
      "Reactions                66\n",
      "Balance                42.0\n",
      "Shot Power               85\n",
      "Jumping                71.0\n",
      "Stamina                  72\n",
      "Strength                 90\n",
      "Long Shots               67\n",
      "Aggression               85\n",
      "Interceptions          79.0\n",
      "Positioning            44.0\n",
      "Vision                 52.0\n",
      "Penalties                52\n",
      "Composure              71.0\n",
      "Marking                  75\n",
      "Standing Tackle          82\n",
      "Sliding Tackle         76.0\n",
      "Goalkeeping              56\n",
      "GK Diving                15\n",
      "GK Handling              11\n",
      "GK Kicking               14\n",
      "GK Positioning           10\n",
      "GK Reflexes               6\n",
      "Total Stats            1856\n",
      "Base Stats              391\n",
      "W/F                       3\n",
      "SM                        2\n",
      "A/W                  Medium\n",
      "D/W                    High\n",
      "IR                        2\n",
      "PAC                      53\n",
      "SHO                      55\n",
      "PAS                      66\n",
      "DRI                      54\n",
      "DEF                      79\n",
      "PHY                      84\n",
      "Hits                     17\n",
      "LS                       60\n",
      "ST                       60\n",
      "RS                       60\n",
      "LW                       56\n",
      "LF                       57\n",
      "CF                       57\n",
      "RF                       57\n",
      "RW                       56\n",
      "LAM                      57\n",
      "CAM                      57\n",
      "RAM                      57\n",
      "LM                       59\n",
      "LCM                      64\n",
      "CM                       64\n",
      "RCM                      64\n",
      "RM                       59\n",
      "LWB                      70\n",
      "LDM                      73\n",
      "CDM                      73\n",
      "RDM                      73\n",
      "RWB                      70\n",
      "LB                       71\n",
      "LCB                      78\n",
      "CB                       78\n",
      "RCB                      78\n",
      "RB                       71\n",
      "GK                       17\n",
      "OVA                      78\n",
      "Name: 441, dtype: object\n"
     ]
    }
   ],
   "source": [
    "id_max = np.argmax(lm.predict(X_test)) # find id of the maximum predicted label\n",
    "print(df2.loc[id_max])"
   ]
  }
 ],
 "metadata": {
  "kernelspec": {
   "display_name": "Python 3.9.12 ('base')",
   "language": "python",
   "name": "python3"
  },
  "language_info": {
   "codemirror_mode": {
    "name": "ipython",
    "version": 3
   },
   "file_extension": ".py",
   "mimetype": "text/x-python",
   "name": "python",
   "nbconvert_exporter": "python",
   "pygments_lexer": "ipython3",
   "version": "3.9.12"
  },
  "vscode": {
   "interpreter": {
    "hash": "6df17fb4df13b71ec05b4aa94d3608f0ccf4cd310a274d15d56bf76c7ef9733e"
   }
  }
 },
 "nbformat": 4,
 "nbformat_minor": 5
}
